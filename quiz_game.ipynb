{
 "cells": [
  {
   "cell_type": "code",
   "execution_count": 7,
   "id": "b0929902",
   "metadata": {},
   "outputs": [
    {
     "name": "stdout",
     "output_type": "stream",
     "text": [
      "Welcome to the Asad Quiz\n",
      "Do you want to play? yes\n",
      "Okay! Lets play :) \n",
      "What does CPU stand for? central processing unit\n",
      "Correct!\n",
      "What does GPU stand for? no\n",
      "Sorry try again\n",
      "Your score was  1\n"
     ]
    }
   ],
   "source": [
    "print('Welcome to the Asad Quiz')\n",
    "playing = input('Do you want to play? ')\n",
    "\n",
    "if playing.upper() != 'YES':\n",
    "        quit()\n",
    "print('Okay! Lets play :) ')\n",
    "score = 0\n",
    "answer = input (\"What does CPU stand for? \")\n",
    "if answer.upper() == 'CENTRAL PROCESSING UNIT':\n",
    "    print('Correct!')\n",
    "    score+=1\n",
    "else:\n",
    "    print ('Sorry incorrect')\n",
    "    \n",
    "answer = input (\"What does GPU stand for? \")\n",
    "if answer.lower() == 'graphics processing unit':\n",
    "    print('Correct!')\n",
    "    score +=1\n",
    "else:\n",
    "    print ('Sorry incorrect')\n",
    "    \n",
    "print('Your score was ', score)"
   ]
  },
  {
   "cell_type": "code",
   "execution_count": null,
   "id": "c28d514f",
   "metadata": {},
   "outputs": [],
   "source": []
  },
  {
   "cell_type": "code",
   "execution_count": null,
   "id": "1908c345",
   "metadata": {},
   "outputs": [],
   "source": []
  }
 ],
 "metadata": {
  "kernelspec": {
   "display_name": "Python 3",
   "language": "python",
   "name": "python3"
  },
  "language_info": {
   "codemirror_mode": {
    "name": "ipython",
    "version": 3
   },
   "file_extension": ".py",
   "mimetype": "text/x-python",
   "name": "python",
   "nbconvert_exporter": "python",
   "pygments_lexer": "ipython3",
   "version": "3.8.8"
  }
 },
 "nbformat": 4,
 "nbformat_minor": 5
}
